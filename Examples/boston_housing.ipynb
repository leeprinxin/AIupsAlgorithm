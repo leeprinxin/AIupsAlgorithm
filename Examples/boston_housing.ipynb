{
 "cells": [
  {
   "cell_type": "markdown",
   "id": "d7524b9a-0b41-4940-bd21-7d9ceab528fc",
   "metadata": {},
   "source": [
    "*** \n",
    "# *Import libraries* \n",
    "***"
   ]
  },
  {
   "cell_type": "code",
   "execution_count": 2,
   "id": "initial_id",
   "metadata": {
    "is_executing": true,
    "tags": []
   },
   "outputs": [],
   "source": [
    "import numpy as np\n",
    "import pandas as pd\n",
    "from sklearn.model_selection import train_test_split\n",
    "from sklearn.preprocessing import StandardScaler\n",
    "from sklearn.linear_model import LinearRegression\n",
    "from sklearn.metrics import mean_squared_error\n",
    "import warnings\n",
    "import sys\n",
    "sys.path.append('../') # 若在根目錄請註解\n",
    "from Algorithm import __AlgoList__\n",
    "warnings.simplefilter(action='ignore', category=FutureWarning)"
   ]
  },
  {
   "cell_type": "markdown",
   "id": "01165f6d-0156-4489-a5bf-9b680dd71f2d",
   "metadata": {
    "tags": []
   },
   "source": [
    "*** \n",
    "# *Example* \n",
    "***"
   ]
  },
  {
   "cell_type": "code",
   "execution_count": 13,
   "id": "9c7be37d-97bb-4c6c-ad7c-2ee7a798e5f8",
   "metadata": {
    "tags": []
   },
   "outputs": [
    {
     "data": {
      "text/plain": [
       "{'regression': {'randomforest': <module 'Algorithm.RandomForest' from 'C:\\\\Users\\\\xin\\\\Documents\\\\GitHub\\\\AIupsAlgorithm\\\\examples\\\\..\\\\Algorithm\\\\RandomForest.py'>,\n",
       "  'knn': <module 'Algorithm.KNN' from 'C:\\\\Users\\\\xin\\\\Documents\\\\GitHub\\\\AIupsAlgorithm\\\\examples\\\\..\\\\Algorithm\\\\KNN.py'>,\n",
       "  'elasticnet': <module 'Algorithm.ElastNet' from 'C:\\\\Users\\\\xin\\\\Documents\\\\GitHub\\\\AIupsAlgorithm\\\\examples\\\\..\\\\Algorithm\\\\ElastNet.py'>,\n",
       "  'ridge': <module 'Algorithm.Ridge' from 'C:\\\\Users\\\\xin\\\\Documents\\\\GitHub\\\\AIupsAlgorithm\\\\examples\\\\..\\\\Algorithm\\\\Ridge.py'>,\n",
       "  'lasso': <module 'Algorithm.Lasso' from 'C:\\\\Users\\\\xin\\\\Documents\\\\GitHub\\\\AIupsAlgorithm\\\\examples\\\\..\\\\Algorithm\\\\Lasso.py'>,\n",
       "  'xgboost': <module 'Algorithm.XGBoost' from 'C:\\\\Users\\\\xin\\\\Documents\\\\GitHub\\\\AIupsAlgorithm\\\\examples\\\\..\\\\Algorithm\\\\XGBoost.py'>,\n",
       "  'lightgbm': <module 'Algorithm.LightGBM' from 'C:\\\\Users\\\\xin\\\\Documents\\\\GitHub\\\\AIupsAlgorithm\\\\examples\\\\..\\\\Algorithm\\\\LightGBM.py'>,\n",
       "  'pls': <module 'Algorithm.PLS' from 'C:\\\\Users\\\\xin\\\\Documents\\\\GitHub\\\\AIupsAlgorithm\\\\examples\\\\..\\\\Algorithm\\\\PLS.py'>,\n",
       "  'linearregression': <module 'Algorithm.LinearRegression' from 'C:\\\\Users\\\\xin\\\\Documents\\\\GitHub\\\\AIupsAlgorithm\\\\examples\\\\..\\\\Algorithm\\\\LinearRegression.py'>,\n",
       "  'catboost': <module 'Algorithm.CatBoost' from 'C:\\\\Users\\\\xin\\\\Documents\\\\GitHub\\\\AIupsAlgorithm\\\\examples\\\\..\\\\Algorithm\\\\CatBoost.py'>,\n",
       "  'extratree': <module 'Algorithm.ExtraTree' from 'C:\\\\Users\\\\xin\\\\Documents\\\\GitHub\\\\AIupsAlgorithm\\\\examples\\\\..\\\\Algorithm\\\\ExtraTree.py'>,\n",
       "  'sgd': <module 'Algorithm.SGD' from 'C:\\\\Users\\\\xin\\\\Documents\\\\GitHub\\\\AIupsAlgorithm\\\\examples\\\\..\\\\Algorithm\\\\SGD.py'>,\n",
       "  'gradientboost': <module 'Algorithm.GradientBoost' from 'C:\\\\Users\\\\xin\\\\Documents\\\\GitHub\\\\AIupsAlgorithm\\\\examples\\\\..\\\\Algorithm\\\\GradientBoost.py'>,\n",
       "  'neural network': <module 'Algorithm.NeuralNetwork' from 'C:\\\\Users\\\\xin\\\\Documents\\\\GitHub\\\\AIupsAlgorithm\\\\examples\\\\..\\\\Algorithm\\\\NeuralNetwork.py'>,\n",
       "  'autogluon': <module 'Algorithm.AutoGluon' from 'C:\\\\Users\\\\xin\\\\Documents\\\\GitHub\\\\AIupsAlgorithm\\\\examples\\\\..\\\\Algorithm\\\\AutoGluon.py'>},\n",
       " 'classification': {'randomforest': <module 'Algorithm.RandomForest' from 'C:\\\\Users\\\\xin\\\\Documents\\\\GitHub\\\\AIupsAlgorithm\\\\examples\\\\..\\\\Algorithm\\\\RandomForest.py'>,\n",
       "  'knn': <module 'Algorithm.KNN' from 'C:\\\\Users\\\\xin\\\\Documents\\\\GitHub\\\\AIupsAlgorithm\\\\examples\\\\..\\\\Algorithm\\\\KNN.py'>,\n",
       "  'elasticnet': <module 'Algorithm.ElastNet' from 'C:\\\\Users\\\\xin\\\\Documents\\\\GitHub\\\\AIupsAlgorithm\\\\examples\\\\..\\\\Algorithm\\\\ElastNet.py'>,\n",
       "  'ridge': <module 'Algorithm.Ridge' from 'C:\\\\Users\\\\xin\\\\Documents\\\\GitHub\\\\AIupsAlgorithm\\\\examples\\\\..\\\\Algorithm\\\\Ridge.py'>,\n",
       "  'lasso': <module 'Algorithm.Lasso' from 'C:\\\\Users\\\\xin\\\\Documents\\\\GitHub\\\\AIupsAlgorithm\\\\examples\\\\..\\\\Algorithm\\\\Lasso.py'>,\n",
       "  'xgboost': <module 'Algorithm.XGBoost' from 'C:\\\\Users\\\\xin\\\\Documents\\\\GitHub\\\\AIupsAlgorithm\\\\examples\\\\..\\\\Algorithm\\\\XGBoost.py'>,\n",
       "  'lightgbm': <module 'Algorithm.LightGBM' from 'C:\\\\Users\\\\xin\\\\Documents\\\\GitHub\\\\AIupsAlgorithm\\\\examples\\\\..\\\\Algorithm\\\\LightGBM.py'>,\n",
       "  'pls': <module 'Algorithm.PLS' from 'C:\\\\Users\\\\xin\\\\Documents\\\\GitHub\\\\AIupsAlgorithm\\\\examples\\\\..\\\\Algorithm\\\\PLS.py'>,\n",
       "  'linearregression': <module 'Algorithm.LinearRegression' from 'C:\\\\Users\\\\xin\\\\Documents\\\\GitHub\\\\AIupsAlgorithm\\\\examples\\\\..\\\\Algorithm\\\\LinearRegression.py'>,\n",
       "  'catboost': <module 'Algorithm.CatBoost' from 'C:\\\\Users\\\\xin\\\\Documents\\\\GitHub\\\\AIupsAlgorithm\\\\examples\\\\..\\\\Algorithm\\\\CatBoost.py'>,\n",
       "  'extratree': <module 'Algorithm.ExtraTree' from 'C:\\\\Users\\\\xin\\\\Documents\\\\GitHub\\\\AIupsAlgorithm\\\\examples\\\\..\\\\Algorithm\\\\ExtraTree.py'>,\n",
       "  'sgd': <module 'Algorithm.SGD' from 'C:\\\\Users\\\\xin\\\\Documents\\\\GitHub\\\\AIupsAlgorithm\\\\examples\\\\..\\\\Algorithm\\\\SGD.py'>,\n",
       "  'gradientboost': <module 'Algorithm.GradientBoost' from 'C:\\\\Users\\\\xin\\\\Documents\\\\GitHub\\\\AIupsAlgorithm\\\\examples\\\\..\\\\Algorithm\\\\GradientBoost.py'>,\n",
       "  'neural network': <module 'Algorithm.NeuralNetwork' from 'C:\\\\Users\\\\xin\\\\Documents\\\\GitHub\\\\AIupsAlgorithm\\\\examples\\\\..\\\\Algorithm\\\\NeuralNetwork.py'>,\n",
       "  'autogluon': <module 'Algorithm.AutoGluon' from 'C:\\\\Users\\\\xin\\\\Documents\\\\GitHub\\\\AIupsAlgorithm\\\\examples\\\\..\\\\Algorithm\\\\AutoGluon.py'>}}"
      ]
     },
     "execution_count": 13,
     "metadata": {},
     "output_type": "execute_result"
    }
   ],
   "source": [
    "# 可用演算法\n",
    "__AlgoList__"
   ]
  },
  {
   "cell_type": "code",
   "execution_count": 27,
   "id": "857916b66eefea42",
   "metadata": {
    "collapsed": false,
    "jupyter": {
     "outputs_hidden": false
    }
   },
   "outputs": [
    {
     "name": "stdout",
     "output_type": "stream",
     "text": [
      "(MSE): 775.2906141417881\n",
      "XGBRegressor(base_score=0.5, booster='gbtree', callbacks=None,\n",
      "             colsample_bylevel=1, colsample_bynode=1, colsample_bytree=1,\n",
      "             early_stopping_rounds=None, enable_categorical=False,\n",
      "             eval_metric=None, gamma=0, gpu_id=-1, grow_policy='depthwise',\n",
      "             importance_type=None, interaction_constraints='',\n",
      "             learning_rate=0.300000012, max_bin=256, max_cat_to_onehot=4,\n",
      "             max_delta_step=0, max_depth=6, max_leaves=0, min_child_weight=1,\n",
      "             missing=nan, monotone_constraints='()', n_estimators=100, n_jobs=0,\n",
      "             num_parallel_tree=1, predictor='auto', random_state=0, reg_alpha=0,\n",
      "             reg_lambda=1, ...)\n",
      "(Importances): {'EQ-CH14_01_CoolingWater_OutTemp': 0.09954860806465149, 'EQ-CH14_01_CoolingWater_InTemp': 0.02297534979879856, 'EQ-CH14_01_CoolingWater_TempDiff': 0.015643564984202385, 'EQ-CH14_01_ColdWater_OutTemp': 0.0072989268228411674, 'EQ-CH14_01_ColdWater_InTemp': 0.025247031822800636, 'EQ-CH14_01_ColdWater_TempDiff': 0.012020042166113853, 'EQ-CH14_01_Evaporator': 0.02607617899775505, 'EQ-CH14_01_Condenser': 0.03758302330970764, 'EQ-CH14_CHP_01_hz': 0.04856947436928749, 'EQ-CH14_CHP_01_flow': 0.04947829991579056, 'EQ-CH14_01_RT': 0.02903943508863449, 'EQ-CH14_CWP_01_hz': 0.6265200972557068}\n"
     ]
    }
   ],
   "source": [
    "data = pd.read_csv(\"./Chiller_CH14(01~24).csv\")\n",
    "\n",
    "X = data.drop(['METROLOGY-CH14_01_KW', 'CONTEXTID', 'TIMETAG'], axis=1)\n",
    "y = data['METROLOGY-CH14_01_KW']\n",
    "\n",
    "X_train, X_test, y_train, y_test = train_test_split(X, y, test_size=0.2, random_state=42)\n",
    "\n",
    "scaler = StandardScaler()\n",
    "X_train = scaler.fit_transform(X_train)\n",
    "X_test = scaler.transform(X_test)\n",
    "\n",
    "XGBoost = __AlgoList__[\"regression\"][\"xgboost\"]\n",
    "model = XGBoost.Regressor(max_depth=6)\n",
    "model.fit(X_train, y_train)\n",
    "\n",
    "y_pred = model.predict(X_test)\n",
    "\n",
    "mse = mean_squared_error(y_test, y_pred)\n",
    "print(f\"(MSE): {mse}\")\n",
    "print(model)\n",
    "# Importances\n",
    "print(f\"(Importances): {dict(zip(X.columns,model.feature_importances_))}\")"
   ]
  },
  {
   "cell_type": "code",
   "execution_count": 28,
   "id": "59670dc3-887e-4ab3-afdb-085ce1297b98",
   "metadata": {
    "tags": []
   },
   "outputs": [
    {
     "name": "stdout",
     "output_type": "stream",
     "text": [
      "(MSE): 710.2150727402999\n",
      "<catboost.core.CatBoostRegressor object at 0x000002B506141130>\n",
      "(Importances): {'EQ-CH14_01_CoolingWater_OutTemp': 0.13668354187302953, 'EQ-CH14_01_CoolingWater_InTemp': 0.10526466434533699, 'EQ-CH14_01_CoolingWater_TempDiff': 0.019181186403888575, 'EQ-CH14_01_ColdWater_OutTemp': 0.007150794567807119, 'EQ-CH14_01_ColdWater_InTemp': 0.023463709131895945, 'EQ-CH14_01_ColdWater_TempDiff': 0.01268786554368281, 'EQ-CH14_01_Evaporator': 0.053944901780777474, 'EQ-CH14_01_Condenser': 0.09545086012567688, 'EQ-CH14_CHP_01_hz': 0.12404461168805637, 'EQ-CH14_CHP_01_flow': 0.10897693713250964, 'EQ-CH14_01_RT': 0.0883680451308857, 'EQ-CH14_CWP_01_hz': 0.22478288227645302}\n"
     ]
    }
   ],
   "source": [
    "CatBoost = __AlgoList__[\"regression\"][\"catboost\"]\n",
    "model = CatBoost.Regressor(max_depth=6)\n",
    "model.fit(X_train, y_train)\n",
    "\n",
    "y_pred = model.predict(X_test)\n",
    "\n",
    "mse = mean_squared_error(y_test, y_pred)\n",
    "print(f\"(MSE): {mse}\")\n",
    "print(model)\n",
    "# Importances\n",
    "print(f\"(Importances): {dict(zip(X.columns,model.feature_importances_))}\")"
   ]
  },
  {
   "cell_type": "code",
   "execution_count": null,
   "id": "5d45ed86-43cd-454c-a4b2-60d6db5a585e",
   "metadata": {},
   "outputs": [],
   "source": []
  }
 ],
 "metadata": {
  "kernelspec": {
   "display_name": "Python (AutoML_Cloud_GPU_temp)",
   "language": "python",
   "name": "automl_cloud_gpu_temp"
  },
  "language_info": {
   "codemirror_mode": {
    "name": "ipython",
    "version": 3
   },
   "file_extension": ".py",
   "mimetype": "text/x-python",
   "name": "python",
   "nbconvert_exporter": "python",
   "pygments_lexer": "ipython3",
   "version": "3.9.16"
  }
 },
 "nbformat": 4,
 "nbformat_minor": 5
}
